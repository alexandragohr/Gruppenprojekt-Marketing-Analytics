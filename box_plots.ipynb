{
 "cells": [
  {
   "cell_type": "code",
   "execution_count": 1,
   "metadata": {},
   "outputs": [
    {
     "ename": "NameError",
     "evalue": "name 'full_data_clean' is not defined",
     "output_type": "error",
     "traceback": [
      "\u001b[1;31m---------------------------------------------------------------------------\u001b[0m",
      "\u001b[1;31mNameError\u001b[0m                                 Traceback (most recent call last)",
      "\u001b[1;32m<ipython-input-1-934cb80f472e>\u001b[0m in \u001b[0;36m<module>\u001b[1;34m\u001b[0m\n\u001b[0;32m      1\u001b[0m \u001b[1;31m# Datensatz full_data_clean für Boxplots aufbereiten\u001b[0m\u001b[1;33m\u001b[0m\u001b[1;33m\u001b[0m\u001b[1;33m\u001b[0m\u001b[0m\n\u001b[1;32m----> 2\u001b[1;33m \u001b[0mfull_data_clean\u001b[0m \u001b[1;33m=\u001b[0m \u001b[0mfull_data_clean\u001b[0m\u001b[1;33m.\u001b[0m\u001b[0mreplace\u001b[0m\u001b[1;33m(\u001b[0m\u001b[0mnp\u001b[0m\u001b[1;33m.\u001b[0m\u001b[0mnan\u001b[0m\u001b[1;33m,\u001b[0m \u001b[1;34m'no event'\u001b[0m\u001b[1;33m,\u001b[0m \u001b[0mregex\u001b[0m\u001b[1;33m=\u001b[0m\u001b[1;32mTrue\u001b[0m\u001b[1;33m)\u001b[0m\u001b[1;33m\u001b[0m\u001b[1;33m\u001b[0m\u001b[0m\n\u001b[0m\u001b[0;32m      3\u001b[0m \u001b[1;33m\u001b[0m\u001b[0m\n\u001b[0;32m      4\u001b[0m \u001b[1;33m\u001b[0m\u001b[0m\n\u001b[0;32m      5\u001b[0m \u001b[1;33m\u001b[0m\u001b[0m\n",
      "\u001b[1;31mNameError\u001b[0m: name 'full_data_clean' is not defined"
     ]
    }
   ],
   "source": [
    "# Datensatz full_data_clean für Boxplots aufbereiten\n",
    "full_data_clean = full_data_clean.replace(np.nan, 'no event', regex=True)\n",
    "\n",
    " \n",
    "\n",
    "full_data_clean['event_type_1'] = pd.np.where(full_data_clean.event_type_1.str.contains(\"National\"), \"National\", \n",
    "                                              pd.np.where(full_data_clean.event_type_1.str.contains(\"Religious\"), \"Religious\",\n",
    "                                                          pd.np.where(full_data_clean.event_type_1.str.contains(\"Cultural\"), \"Cultural\",\n",
    "                                                                      pd.np.where(full_data_clean.event_type_1.str.contains(\"Sporting\"), \"Sporting\", 'no event'))))\n",
    "                                              \n",
    "                                              \n",
    "full_data_clean['event_type_2'] = pd.np.where(full_data_clean.event_type_2.str.contains(\"Religious\"), \"Religious\",\n",
    "                                                          pd.np.where(full_data_clean.event_type_2.str.contains(\"Cultural\"), \"Cultural\",\n",
    "                                                                      'no event'))   \n",
    "\n",
    "full_data_agg = full_data_clean.groupby('date').apply(\n",
    "        lambda full_data_clean: pd.Series({\n",
    "            'sales': full_data_clean.sales.sum(),\n",
    "            'month': full_data_clean.Month.value_counts().index[0],\n",
    "            'weekday': full_data_clean.Weekday.value_counts().index[0],\n",
    "            'event_name_1': full_data_clean.event_name_1.value_counts().index[0],\n",
    "            'event_type_1': full_data_clean.event_type_1.value_counts().index[0],\n",
    "            'event_name_2': full_data_clean.event_name_2.value_counts().index[0],\n",
    "            'event_type_2': full_data_clean.event_type_2.value_counts().index[0]\n",
    "            }))"
   ]
  },
  {
   "cell_type": "code",
   "execution_count": null,
   "metadata": {},
   "outputs": [],
   "source": [
    "# Boxplot der Sales pro Monat \n",
    "month_boxplot = sns.boxplot(x = 'month', y = \"sales\", data = full_data_agg, order = ['January', 'February', 'March','April','May','June','July', 'August','September','October','November','December'])\n",
    "month_boxplot.set_xticklabels(month_boxplot.get_xticklabels(),rotation=30)\n",
    "plt.show()"
   ]
  },
  {
   "cell_type": "code",
   "execution_count": null,
   "metadata": {},
   "outputs": [],
   "source": [
    "# Boxplot für Sales pro Wochentag\n",
    "weekday_boxplot = sns.boxplot(x = 'weekday', y = \"sales\", data = full_data_agg, order = ['Monday', 'Tuesday', 'Wednesday','Thursday','Friday','Saturday','Sunday'])\n",
    "weekday_boxplot.set_xticklabels(weekday_boxplot.get_xticklabels(),rotation=30)\n",
    "plt.show()"
   ]
  },
  {
   "cell_type": "code",
   "execution_count": null,
   "metadata": {},
   "outputs": [],
   "source": [
    "# Boxplot für Sales pro Event nach Name (1)\n",
    "event_name_1_boxplot = sns.boxplot(x = 'event_name_1', y = \"sales\", data = full_data_agg)\n",
    "event_name_1_boxplot.set_xticklabels(event_name_1_boxplot.get_xticklabels(),rotation=90)\n",
    "plt.show()"
   ]
  },
  {
   "cell_type": "code",
   "execution_count": null,
   "metadata": {},
   "outputs": [],
   "source": [
    "# Boxplot für Sales pro Event nach Typ (1)\n",
    "event_type_1_boxplot = sns.boxplot(x = 'event_type_1', y = \"sales\", data = full_data_agg)\n",
    "event_type_1_boxplot.set_xticklabels(event_type_1_boxplot.get_xticklabels(),rotation=30)\n",
    "plt.show()"
   ]
  },
  {
   "cell_type": "code",
   "execution_count": null,
   "metadata": {},
   "outputs": [],
   "source": [
    "# Boxplot für Sales pro Event nach Name (2)\n",
    "event_name_2_boxplot = sns.boxplot(x = 'event_name_2', y = \"sales\", data = full_data_agg)\n",
    "event_name_2_boxplot.set_xticklabels(event_name_2_boxplot.get_xticklabels(),rotation=30)\n",
    "plt.show()"
   ]
  },
  {
   "cell_type": "code",
   "execution_count": null,
   "metadata": {},
   "outputs": [],
   "source": [
    "# Boxplot für Sales pro Event nach Typ (2)\n",
    "event_type_2_boxplot = sns.boxplot(x = 'event_type_2', y = \"sales\", data = full_data_agg)\n",
    "event_type_2_boxplot.set_xticklabels(event_type_2_boxplot.get_xticklabels(),rotation=30)\n",
    "plt.show()"
   ]
  }
 ],
 "metadata": {
  "kernelspec": {
   "display_name": "Python 3",
   "language": "python",
   "name": "python3"
  },
  "language_info": {
   "codemirror_mode": {
    "name": "ipython",
    "version": 3
   },
   "file_extension": ".py",
   "mimetype": "text/x-python",
   "name": "python",
   "nbconvert_exporter": "python",
   "pygments_lexer": "ipython3",
   "version": "3.8.5"
  }
 },
 "nbformat": 4,
 "nbformat_minor": 4
}
